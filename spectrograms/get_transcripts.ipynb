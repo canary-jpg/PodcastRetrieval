{
 "cells": [
  {
   "cell_type": "markdown",
   "metadata": {},
   "source": [
    "This notebook is used to randomly sample transcripts for DL model training data."
   ]
  },
  {
   "cell_type": "code",
   "execution_count": 1,
   "metadata": {},
   "outputs": [
    {
     "data": {
      "text/plain": [
       "'/home/hazel/podcasts-search'"
      ]
     },
     "execution_count": 1,
     "metadata": {},
     "output_type": "execute_result"
    }
   ],
   "source": [
    "import os\n",
    "a = os.getcwd()"
   ]
  },
  {
   "cell_type": "code",
   "execution_count": 3,
   "metadata": {},
   "outputs": [],
   "source": [
    "import glob\n",
    "transcript_pop = glob.glob('./data/podcasts-transcripts-*/**/*.json', recursive=True)"
   ]
  },
  {
   "cell_type": "code",
   "execution_count": 22,
   "metadata": {},
   "outputs": [],
   "source": [
    "import random\n",
    "random.seed(5)\n",
    "transcript_samples = random.sample(transcript_pop, k=10)"
   ]
  },
  {
   "cell_type": "code",
   "execution_count": 23,
   "metadata": {},
   "outputs": [
    {
     "name": "stdout",
     "output_type": "stream",
     "text": [
      "['1EQ59WUlPZVMwvzUnpp5ui', '5uBuRkD29IywuA5qNLCiXG', '2N4gmiYOwTV1FcdMJ77H5y', '0sY5yDhVo6naIvfqC7LLxG', '5uZABi2NG2mzDFAuH0pVeq', '1oXRd61mFxcHJ7Erausi06', '4fzws6OZZttwW2iEWadDch', '181kcTLzK5iJSW2r2o9vqE', '0FmIePa5QqfkN0M5HjGDpQ', '5vkV68pCmweOiLgBdJtuhy']\n"
     ]
    }
   ],
   "source": [
    "transcript_id = []\n",
    "for sample in transcript_samples:\n",
    "    ids = sample.split('/')[-1].split('.json')[0]\n",
    "    transcript_id.append(ids)\n",
    "print(transcript_id)"
   ]
  },
  {
   "cell_type": "code",
   "execution_count": 24,
   "metadata": {},
   "outputs": [
    {
     "data": {
      "text/plain": [
       "['1EQ59WUlPZVMwvzUnpp5ui',\n",
       " '5uBuRkD29IywuA5qNLCiXG',\n",
       " '2N4gmiYOwTV1FcdMJ77H5y',\n",
       " '0sY5yDhVo6naIvfqC7LLxG',\n",
       " '5uZABi2NG2mzDFAuH0pVeq',\n",
       " '1oXRd61mFxcHJ7Erausi06',\n",
       " '4fzws6OZZttwW2iEWadDch',\n",
       " '181kcTLzK5iJSW2r2o9vqE',\n",
       " '0FmIePa5QqfkN0M5HjGDpQ',\n",
       " '5vkV68pCmweOiLgBdJtuhy']"
      ]
     },
     "execution_count": 24,
     "metadata": {},
     "output_type": "execute_result"
    }
   ],
   "source": [
    "transcript_id = [sample.split('/')[-1].split('.json')[0] for sample in transcript_samples]\n",
    "transcript_id"
   ]
  },
  {
   "cell_type": "code",
   "execution_count": null,
   "metadata": {},
   "outputs": [],
   "source": []
  }
 ],
 "metadata": {
  "kernelspec": {
   "display_name": "Python 3",
   "language": "python",
   "name": "python3"
  },
  "language_info": {
   "codemirror_mode": {
    "name": "ipython",
    "version": 3
   },
   "file_extension": ".py",
   "mimetype": "text/x-python",
   "name": "python",
   "nbconvert_exporter": "python",
   "pygments_lexer": "ipython3",
   "version": "3.8.3"
  }
 },
 "nbformat": 4,
 "nbformat_minor": 4
}
