{
 "cells": [
  {
   "cell_type": "markdown",
   "metadata": {},
   "source": [
    "# Implementing Scout\n",
    "In this notebook, I will be implementing the scout search engine I have created in order to see how well it can search for podcasts; with the hope that it can improve a user's search for new podcasts based on interest."
   ]
  },
  {
   "cell_type": "code",
   "execution_count": 1,
   "metadata": {},
   "outputs": [
    {
     "name": "stdout",
     "output_type": "stream",
     "text": [
      "dict_keys(['document_count', 'documents', 'filtered_count', 'filters', 'ordering', 'page', 'pages', 'ranking', 'search_term'])\n",
      "6573105\n"
     ]
    }
   ],
   "source": [
    "from scout_client import Scout\n",
    "\n",
    "scout = Scout('http://localhost:8000')\n",
    "\n",
    "results = scout.get_documents(q='food', page=1)\n",
    "# print(results)\n",
    "print(results.keys())\n",
    "print(results[\"document_count\"])"
   ]
  },
  {
   "cell_type": "markdown",
   "metadata": {},
   "source": [
    "As we can see from above, there are over 657,000 documents in the database"
   ]
  },
  {
   "cell_type": "code",
   "execution_count": 15,
   "metadata": {
    "scrolled": false
   },
   "outputs": [
    {
     "name": "stdout",
     "output_type": "stream",
     "text": [
      "50\n",
      "100\n",
      "150\n",
      "200\n"
     ]
    }
   ],
   "source": [
    "# getting page results based on some topic\n",
    "page_results=[]\n",
    "for page_no in range(1,5):\n",
    "    results = scout.get_documents(q='food', page=page_no)\n",
    "    doc_results = results[\"documents\"]\n",
    "    for doc_result in doc_results:\n",
    "        page_results.append(doc_result)\n",
    "    print(len(page_results))"
   ]
  },
  {
   "cell_type": "markdown",
   "metadata": {},
   "source": [
    "In this example, I am searching for podcasts about food and starting to get page results"
   ]
  },
  {
   "cell_type": "code",
   "execution_count": 20,
   "metadata": {
    "scrolled": false
   },
   "outputs": [
    {
     "data": {
      "text/plain": [
       "'4kHK1QPnx70zU4KNwOOJ1X'"
      ]
     },
     "execution_count": 20,
     "metadata": {},
     "output_type": "execute_result"
    }
   ],
   "source": [
    "# last result in food podcast search\n",
    "page_results[-1]['metadata']['episode_id']"
   ]
  },
  {
   "cell_type": "code",
   "execution_count": 23,
   "metadata": {
    "scrolled": false
   },
   "outputs": [
    {
     "name": "stdout",
     "output_type": "stream",
     "text": [
      "['6vEHAUCjTy94rkMAWgotoq', '3c1YD96eBOCjdDqE0jYO3z', '4GkHcdlSmA4be0oCt63RqG', '1Br3sOn0SY7oFtgQ6vL2Yy', '27NP9zsDmOj24rWxnUFdvP', '2p5rzo9djahFeptR8jJA0H', '4YXplCf4bXeGS9A9q1zK0Y', '7yEtdOjvzW3vaxOTTHQZUT', '3k8xFD4t31ommXlJLcP20d', '235AiGsKWukOAYrMLmAmEe', '4RmePfcXXXHJhoAHrnoRmu', '0x72i2GlvFSnrjrfXH3G2X', '2EfynHGA4hPxMjkAUuTHiN', '1UnThtDdLH7sbjpGedOeCL', '045uI9EkPpK4EpDnBMdEZa', '0x72i2GlvFSnrjrfXH3G2X', '7wHWk3PlezuZg5lfIj5UDL', '2Hi8V4e6qpHBKFD310Px0x', '77rgXZ9qetfZ2ikPAEL1Hd', '6CeWINlHaGCmG4pvbr3htK', '77oDgWzp4yck7UN2hroHLM', '0XGBlGw6dcCRDkSmN6Gcia', '79biNkExDpnEZJPqxqQCon', '5Q7aBl67Xp97kl20uOYXEq', '4854Bp3xzwP0pLDzTtcYJT', '7Bbq3ibeGT60hSGFhxR9C0', '12eYX8VpLZD4gNddxYxo7x', '3mG3PEroeT7pgccsqMt4YY', '6ZcO15xfsamI9OCiSobapA', '5amAa3AJcd557NwMoPPbF3', '6lVa8L4SlywQ5hcnRUrwwS', '0rLnRBHXWhPbqZe1FnRHwj', '15Asa7lA1AEUmvGKDi6Ssz', '1TP25beI3VUYMsPKKiU4kQ', '0YEUgnnZK39lCAZ1YQf2Rb', '2xSq9YCCPcdxcFPk1Wrx6v', '29sWx53ANjcxjlMQSqgRIx', '1gV4aLTtN2ICNMJ9U6BInC', '29M4wIpuh3VSOCBodzbMsc', '01BzdmH2UX1WhhJmJrLlfO', '0dnWgpVaVBmssSbdtJZjUc', '6FtyPONRulo8RfDltRwRdF', '3gEbNDmDwMZn9Z6j8CHvVX', '7nE6orrpU22QRvWL10v9vA', '45cROaHwOaFvrgxAcCQTyZ', '2nDfNC5JHutDOi9pg3VD14', '37ZZOKLbgSGeE0rr88Fsl4', '6UIizttGCA9V4v7agPPROq', '3rPkp3k4IUGCxUCOTilR8i', '4QWDr8bgAtfOLQrTK7se50', '6umCuz8N2AOhhyOWFkseo0', '6YmzvN5NeFQbPrYlzFdmTm', '56LsRECLClVixto3JFiTBO', '56axgyt5xBCPuaeSAokUzd', '2aeAtoeq9LCAhdeateZ1J9', '0HZ0Pj5svNdBYrXQSxQVac', '6M3eua3bmGsyseYoc7dm7r', '03sIbB9HMXjvNA8FHIX0ZK', '5og5UgTtsftdqvWVyCLPdN', '413SGZZKgCbg4K6q8jAUNB', '03sIbB9HMXjvNA8FHIX0ZK', '1jbr7MB9WedWuwC6QFFACN', '4GkHcdlSmA4be0oCt63RqG', '7xH3waXXfrNXKLijJWlNL7', '69e3zlEhuaKOZyvppHzJVU', '2LYEyC0sQniZlHrtWjBbJm', '0OpQRGejbZ0QRwF6A0UHBI', '50RjvR5mFVQOiYKCT2GRLl', '6zrogyQUpoA8pubqfyTOKx', '29M4wIpuh3VSOCBodzbMsc', '2MH0DizN35HAPkSA1TxohG', '3Ii6hyiVdfaxsfInC7q2YY', '1PZdHO9V64vH4OBBc3gRTd', '292esvirnocP5mNMbvcgs8', '4854Bp3xzwP0pLDzTtcYJT', '4e15CrEdCtMxfHbqe7Bkp6', '5mUp8qey2E2U5LDrh8zIhS', '4qJPZKsaMPlOq4A1ILMrHZ', '3RirxZoUB2JJPaK8Y69vB2', '5mSzJat7WUmZtktxbTkI7u', '2R8nbE2K9SIdzdvl4VkMg0', '3ejZDfaWOpkM2PmhLrLYjB', '250800fNVwiuwZe5KBuKVa', '18in4ON2XNE5ElWnd6qOHD', '01DUVLuBtlqEXWgCpzKedX', '1NUf14L5lNX4dcexydjZ7u', '0nsYhJSseHQjm5ikn5KYQR', '31I6cmdD3L4KYhfb84uGbD', '3DSira4N03wdJNLSJJcxI1', '7yEtdOjvzW3vaxOTTHQZUT', '2g5SombSvh6nxLsOeelNhu', '4hogd8I9vpO7dlKqHNOubc', '17sazjqoiRsfNa6ZygFka2', '2Sx044oRUd0TzhSnFqZh7p', '56WiXD5SiMUek1WUuAIsTb', '7A8oqzuNX09R1y0T5tKK5e', '5Y3G7a7fOrQnUYb8OASMkd', '45imN8JfKOmQFmSbJ5OC9Q', '7IgfjAdWiQwLzysUMZDGQG', '70WfUWyBE4wJlCCqzH1NQ9', '07nWWrNvIZk13A9qiDfxcz', '1ZOIp1qqW1ErqqzfMUL9qK', '3X91kd9nfzaqh7dGUNzfL5', '7yEtdOjvzW3vaxOTTHQZUT', '5JjRrXHj0uqK0nPwgv7NDP', '7mwVOm9NeJnu0BkZt5AJjt', '3B2B9kmPVIadME2skyFbMJ', '0GPaNMEgs8uWu0YFExZJs7', '26AWlhiNu6tSM1INBXsQOl', '44RXHIA9EVnn6ogctYjvkh', '1rJAxJszAe7Ufu5JmYp0zP', '6PMJxy9upTt64d4DTzP7o8', '3vFFddZBWCxKnkhfdrz8EP', '6sSHT9DduD6vdCy1eVL0kq', '2Idg7tvrHVD1jjCFzYz0YK', '3rIninXRPda64NRSGGjGOI', '4aqreB3Q1xH5pAht7udM7s', '53HqcoL9Nj962kfEvJQP4c', '76zRbDOCN7scMHxWgdoY3o', '5c8ER8aekXyHOZ8DwCkzZH', '3u3S357DpZC7PEmhfhAYoy', '0Mps72BGsvBG98ZPMljj7W', '3AfQHZ8XFkI1qjtHsAIQsD', '5C3juHwDytdF1rYxYYeXS5', '0p2bLigjVz0IQO9W1XtkVm', '7Eyzku5urXgWwjqHeyLeIp', '2aeAtoeq9LCAhdeateZ1J9', '50mCpjrqGJz4aYm8MYgbwe', '2eKRUgUZWSpjCUMZgbgJfC', '18uZyDof9XA5Dm3TUdzuqf', '4GkHcdlSmA4be0oCt63RqG', '5quLDILppHBbYAPDYhHDaU', '3KcPkm9kBT14HhnGvyRhXU', '1aqPcX5KI91Azt5aXyeoXn', '68sIrKP3Ow8uK4tdVGC95r', '5d243Lrzm0SeIggZDyt43v', '1kDrqSeMT1TpkmPBuo1b0w', '3GvI9ecb1xhU15zQH1uNKQ', '7uAJV3TPhASTrQo0Jc9O2s', '63j2WSi4FSlTPgVv3tSZ41', '26AWlhiNu6tSM1INBXsQOl', '2JXrpar5sPbQpd3rsTGYTZ', '4wLVtmaCSJBJF3oNIQi3VD', '1rJAxJszAe7Ufu5JmYp0zP', '0n9nohielDSuBq8rLBgacd', '4gdOuwFzjd3qQopXTtW8zp', '1EvTIQX7R4B4jl5LQHTNR5', '3X55Nk7kJCmb2IQ6woZE6H', '4ZaegJFiHLs0g9XJ7MJm0D', '2g6i2qbI7vT7L18rBByhWt', '1jbr7MB9WedWuwC6QFFACN', '2aBFTszF5QWtmKnszZ1pWf', '0YBoHJLB5OxAO5F01BYUJS', '295wrdwbjz4BW0TuVpQn3k', '3xUaotBatI2OY5Sf46VyB2', '4fOKPcvcuuQ8ESg1mZFPGA', '0MDwogwlipRBYWVW1KoVx3', '5fqb7J6h6H9fOaZJMiO7ea', '5gpqETED1u9hIrEf63o2eQ', '4DxVSDIcRbLQ5kgkaaXZNw', '29M4wIpuh3VSOCBodzbMsc', '5sN9dsquR1DhxUR0GqtI3D', '2PNDEJUu0DMoT2Jx3rdcPD', '6O3mg8v2s5hyEZv6uCVUyU', '0X40Ej6XTpW1ugrqciE6uM', '4GkHcdlSmA4be0oCt63RqG', '3f1dfmnYNbVwQpuVRPHcDT', '13waPyiS6xXLqimLIbDGvb', '5Vi8DXDPn4sLcVYXjT4YfX', '4xNIgOVJLJWoc4ailXuFBo', '3q4PStVtio9LfadnQhInoQ', '5KmhdmjWfK1reyrPg3Eimv', '4MnPeAVwjO3oPoYCeEVJve', '3zUsmt4BisNjWZzWqIzaup', '5c8OKJ3P3QurNH3lpoa6wI', '5gMXMyVrOADLG4Tvc5VNOq', '3PYFh5oZFwR0ZE9v6XsOGD', '1Lrwd5jcffkdbmwZp6UvtR', '6vtaQOkHTNZkeOvi6Lhz1v', '7mwVOm9NeJnu0BkZt5AJjt', '3f1dfmnYNbVwQpuVRPHcDT', '5ougIwpd2a7J4XPZbgwaa0', '0aipIygwpT8XYrl9GCL1yd', '3DSira4N03wdJNLSJJcxI1', '3WFDj3jamlWIOzd4BGPd2f', '14Ay5Oak8ZAJspETYaV5fh', '29SpDmsgVlsMuP9T81wK9W', '7mwVOm9NeJnu0BkZt5AJjt', '6etnI4HAWZSI9qFjJZyx6K', '7DabZGAClZ9hMB8zLNDC9y', '4m0tPPXHJAe7dzI8yu7QON', '1xYGAsIZ6ANPCHX1QRhLF6', '1PZdHO9V64vH4OBBc3gRTd', '4jyAc38K5Sq8VWwvieERcS', '3QHBMKLiMqMjVxGTbBKhcD', '1BxSSOWkDbgerBzm0ney8v', '2Ow1zXBzWEZgNKyWVLQdPI', '0MUuqLEAFEFATM6S5Xwl6A', '5bJJEYkI8AEouIMDPbZbce', '4kHK1QPnx70zU4KNwOOJ1X']\n"
     ]
    }
   ],
   "source": [
    "epi_id = []\n",
    "for page_result in page_results:\n",
    "    metadata = page_result['metadata']['episode_id']\n",
    "    epi_id.append(metadata)\n",
    "print(epi_id)"
   ]
  },
  {
   "cell_type": "markdown",
   "metadata": {},
   "source": [
    "Here we can see all of the podcast episodes that mention food or are about food"
   ]
  },
  {
   "cell_type": "code",
   "execution_count": 24,
   "metadata": {
    "scrolled": true
   },
   "outputs": [
    {
     "data": {
      "text/plain": [
       "[('4GkHcdlSmA4be0oCt63RqG', 4),\n",
       " ('7yEtdOjvzW3vaxOTTHQZUT', 3),\n",
       " ('29M4wIpuh3VSOCBodzbMsc', 3),\n",
       " ('7mwVOm9NeJnu0BkZt5AJjt', 3),\n",
       " ('0x72i2GlvFSnrjrfXH3G2X', 2),\n",
       " ('4854Bp3xzwP0pLDzTtcYJT', 2),\n",
       " ('2aeAtoeq9LCAhdeateZ1J9', 2),\n",
       " ('03sIbB9HMXjvNA8FHIX0ZK', 2),\n",
       " ('1jbr7MB9WedWuwC6QFFACN', 2),\n",
       " ('1PZdHO9V64vH4OBBc3gRTd', 2),\n",
       " ('3DSira4N03wdJNLSJJcxI1', 2),\n",
       " ('26AWlhiNu6tSM1INBXsQOl', 2),\n",
       " ('1rJAxJszAe7Ufu5JmYp0zP', 2),\n",
       " ('3f1dfmnYNbVwQpuVRPHcDT', 2),\n",
       " ('6vEHAUCjTy94rkMAWgotoq', 1),\n",
       " ('3c1YD96eBOCjdDqE0jYO3z', 1),\n",
       " ('1Br3sOn0SY7oFtgQ6vL2Yy', 1),\n",
       " ('27NP9zsDmOj24rWxnUFdvP', 1),\n",
       " ('2p5rzo9djahFeptR8jJA0H', 1),\n",
       " ('4YXplCf4bXeGS9A9q1zK0Y', 1),\n",
       " ('3k8xFD4t31ommXlJLcP20d', 1),\n",
       " ('235AiGsKWukOAYrMLmAmEe', 1),\n",
       " ('4RmePfcXXXHJhoAHrnoRmu', 1),\n",
       " ('2EfynHGA4hPxMjkAUuTHiN', 1),\n",
       " ('1UnThtDdLH7sbjpGedOeCL', 1),\n",
       " ('045uI9EkPpK4EpDnBMdEZa', 1),\n",
       " ('7wHWk3PlezuZg5lfIj5UDL', 1),\n",
       " ('2Hi8V4e6qpHBKFD310Px0x', 1),\n",
       " ('77rgXZ9qetfZ2ikPAEL1Hd', 1),\n",
       " ('6CeWINlHaGCmG4pvbr3htK', 1),\n",
       " ('77oDgWzp4yck7UN2hroHLM', 1),\n",
       " ('0XGBlGw6dcCRDkSmN6Gcia', 1),\n",
       " ('79biNkExDpnEZJPqxqQCon', 1),\n",
       " ('5Q7aBl67Xp97kl20uOYXEq', 1),\n",
       " ('7Bbq3ibeGT60hSGFhxR9C0', 1),\n",
       " ('12eYX8VpLZD4gNddxYxo7x', 1),\n",
       " ('3mG3PEroeT7pgccsqMt4YY', 1),\n",
       " ('6ZcO15xfsamI9OCiSobapA', 1),\n",
       " ('5amAa3AJcd557NwMoPPbF3', 1),\n",
       " ('6lVa8L4SlywQ5hcnRUrwwS', 1),\n",
       " ('0rLnRBHXWhPbqZe1FnRHwj', 1),\n",
       " ('15Asa7lA1AEUmvGKDi6Ssz', 1),\n",
       " ('1TP25beI3VUYMsPKKiU4kQ', 1),\n",
       " ('0YEUgnnZK39lCAZ1YQf2Rb', 1),\n",
       " ('2xSq9YCCPcdxcFPk1Wrx6v', 1),\n",
       " ('29sWx53ANjcxjlMQSqgRIx', 1),\n",
       " ('1gV4aLTtN2ICNMJ9U6BInC', 1),\n",
       " ('01BzdmH2UX1WhhJmJrLlfO', 1),\n",
       " ('0dnWgpVaVBmssSbdtJZjUc', 1),\n",
       " ('6FtyPONRulo8RfDltRwRdF', 1),\n",
       " ('3gEbNDmDwMZn9Z6j8CHvVX', 1),\n",
       " ('7nE6orrpU22QRvWL10v9vA', 1),\n",
       " ('45cROaHwOaFvrgxAcCQTyZ', 1),\n",
       " ('2nDfNC5JHutDOi9pg3VD14', 1),\n",
       " ('37ZZOKLbgSGeE0rr88Fsl4', 1),\n",
       " ('6UIizttGCA9V4v7agPPROq', 1),\n",
       " ('3rPkp3k4IUGCxUCOTilR8i', 1),\n",
       " ('4QWDr8bgAtfOLQrTK7se50', 1),\n",
       " ('6umCuz8N2AOhhyOWFkseo0', 1),\n",
       " ('6YmzvN5NeFQbPrYlzFdmTm', 1),\n",
       " ('56LsRECLClVixto3JFiTBO', 1),\n",
       " ('56axgyt5xBCPuaeSAokUzd', 1),\n",
       " ('0HZ0Pj5svNdBYrXQSxQVac', 1),\n",
       " ('6M3eua3bmGsyseYoc7dm7r', 1),\n",
       " ('5og5UgTtsftdqvWVyCLPdN', 1),\n",
       " ('413SGZZKgCbg4K6q8jAUNB', 1),\n",
       " ('7xH3waXXfrNXKLijJWlNL7', 1),\n",
       " ('69e3zlEhuaKOZyvppHzJVU', 1),\n",
       " ('2LYEyC0sQniZlHrtWjBbJm', 1),\n",
       " ('0OpQRGejbZ0QRwF6A0UHBI', 1),\n",
       " ('50RjvR5mFVQOiYKCT2GRLl', 1),\n",
       " ('6zrogyQUpoA8pubqfyTOKx', 1),\n",
       " ('2MH0DizN35HAPkSA1TxohG', 1),\n",
       " ('3Ii6hyiVdfaxsfInC7q2YY', 1),\n",
       " ('292esvirnocP5mNMbvcgs8', 1),\n",
       " ('4e15CrEdCtMxfHbqe7Bkp6', 1),\n",
       " ('5mUp8qey2E2U5LDrh8zIhS', 1),\n",
       " ('4qJPZKsaMPlOq4A1ILMrHZ', 1),\n",
       " ('3RirxZoUB2JJPaK8Y69vB2', 1),\n",
       " ('5mSzJat7WUmZtktxbTkI7u', 1),\n",
       " ('2R8nbE2K9SIdzdvl4VkMg0', 1),\n",
       " ('3ejZDfaWOpkM2PmhLrLYjB', 1),\n",
       " ('250800fNVwiuwZe5KBuKVa', 1),\n",
       " ('18in4ON2XNE5ElWnd6qOHD', 1),\n",
       " ('01DUVLuBtlqEXWgCpzKedX', 1),\n",
       " ('1NUf14L5lNX4dcexydjZ7u', 1),\n",
       " ('0nsYhJSseHQjm5ikn5KYQR', 1),\n",
       " ('31I6cmdD3L4KYhfb84uGbD', 1),\n",
       " ('2g5SombSvh6nxLsOeelNhu', 1),\n",
       " ('4hogd8I9vpO7dlKqHNOubc', 1),\n",
       " ('17sazjqoiRsfNa6ZygFka2', 1),\n",
       " ('2Sx044oRUd0TzhSnFqZh7p', 1),\n",
       " ('56WiXD5SiMUek1WUuAIsTb', 1),\n",
       " ('7A8oqzuNX09R1y0T5tKK5e', 1),\n",
       " ('5Y3G7a7fOrQnUYb8OASMkd', 1),\n",
       " ('45imN8JfKOmQFmSbJ5OC9Q', 1),\n",
       " ('7IgfjAdWiQwLzysUMZDGQG', 1),\n",
       " ('70WfUWyBE4wJlCCqzH1NQ9', 1),\n",
       " ('07nWWrNvIZk13A9qiDfxcz', 1),\n",
       " ('1ZOIp1qqW1ErqqzfMUL9qK', 1),\n",
       " ('3X91kd9nfzaqh7dGUNzfL5', 1),\n",
       " ('5JjRrXHj0uqK0nPwgv7NDP', 1),\n",
       " ('3B2B9kmPVIadME2skyFbMJ', 1),\n",
       " ('0GPaNMEgs8uWu0YFExZJs7', 1),\n",
       " ('44RXHIA9EVnn6ogctYjvkh', 1),\n",
       " ('6PMJxy9upTt64d4DTzP7o8', 1),\n",
       " ('3vFFddZBWCxKnkhfdrz8EP', 1),\n",
       " ('6sSHT9DduD6vdCy1eVL0kq', 1),\n",
       " ('2Idg7tvrHVD1jjCFzYz0YK', 1),\n",
       " ('3rIninXRPda64NRSGGjGOI', 1),\n",
       " ('4aqreB3Q1xH5pAht7udM7s', 1),\n",
       " ('53HqcoL9Nj962kfEvJQP4c', 1),\n",
       " ('76zRbDOCN7scMHxWgdoY3o', 1),\n",
       " ('5c8ER8aekXyHOZ8DwCkzZH', 1),\n",
       " ('3u3S357DpZC7PEmhfhAYoy', 1),\n",
       " ('0Mps72BGsvBG98ZPMljj7W', 1),\n",
       " ('3AfQHZ8XFkI1qjtHsAIQsD', 1),\n",
       " ('5C3juHwDytdF1rYxYYeXS5', 1),\n",
       " ('0p2bLigjVz0IQO9W1XtkVm', 1),\n",
       " ('7Eyzku5urXgWwjqHeyLeIp', 1),\n",
       " ('50mCpjrqGJz4aYm8MYgbwe', 1),\n",
       " ('2eKRUgUZWSpjCUMZgbgJfC', 1),\n",
       " ('18uZyDof9XA5Dm3TUdzuqf', 1),\n",
       " ('5quLDILppHBbYAPDYhHDaU', 1),\n",
       " ('3KcPkm9kBT14HhnGvyRhXU', 1),\n",
       " ('1aqPcX5KI91Azt5aXyeoXn', 1),\n",
       " ('68sIrKP3Ow8uK4tdVGC95r', 1),\n",
       " ('5d243Lrzm0SeIggZDyt43v', 1),\n",
       " ('1kDrqSeMT1TpkmPBuo1b0w', 1),\n",
       " ('3GvI9ecb1xhU15zQH1uNKQ', 1),\n",
       " ('7uAJV3TPhASTrQo0Jc9O2s', 1),\n",
       " ('63j2WSi4FSlTPgVv3tSZ41', 1),\n",
       " ('2JXrpar5sPbQpd3rsTGYTZ', 1),\n",
       " ('4wLVtmaCSJBJF3oNIQi3VD', 1),\n",
       " ('0n9nohielDSuBq8rLBgacd', 1),\n",
       " ('4gdOuwFzjd3qQopXTtW8zp', 1),\n",
       " ('1EvTIQX7R4B4jl5LQHTNR5', 1),\n",
       " ('3X55Nk7kJCmb2IQ6woZE6H', 1),\n",
       " ('4ZaegJFiHLs0g9XJ7MJm0D', 1),\n",
       " ('2g6i2qbI7vT7L18rBByhWt', 1),\n",
       " ('2aBFTszF5QWtmKnszZ1pWf', 1),\n",
       " ('0YBoHJLB5OxAO5F01BYUJS', 1),\n",
       " ('295wrdwbjz4BW0TuVpQn3k', 1),\n",
       " ('3xUaotBatI2OY5Sf46VyB2', 1),\n",
       " ('4fOKPcvcuuQ8ESg1mZFPGA', 1),\n",
       " ('0MDwogwlipRBYWVW1KoVx3', 1),\n",
       " ('5fqb7J6h6H9fOaZJMiO7ea', 1),\n",
       " ('5gpqETED1u9hIrEf63o2eQ', 1),\n",
       " ('4DxVSDIcRbLQ5kgkaaXZNw', 1),\n",
       " ('5sN9dsquR1DhxUR0GqtI3D', 1),\n",
       " ('2PNDEJUu0DMoT2Jx3rdcPD', 1),\n",
       " ('6O3mg8v2s5hyEZv6uCVUyU', 1),\n",
       " ('0X40Ej6XTpW1ugrqciE6uM', 1),\n",
       " ('13waPyiS6xXLqimLIbDGvb', 1),\n",
       " ('5Vi8DXDPn4sLcVYXjT4YfX', 1),\n",
       " ('4xNIgOVJLJWoc4ailXuFBo', 1),\n",
       " ('3q4PStVtio9LfadnQhInoQ', 1),\n",
       " ('5KmhdmjWfK1reyrPg3Eimv', 1),\n",
       " ('4MnPeAVwjO3oPoYCeEVJve', 1),\n",
       " ('3zUsmt4BisNjWZzWqIzaup', 1),\n",
       " ('5c8OKJ3P3QurNH3lpoa6wI', 1),\n",
       " ('5gMXMyVrOADLG4Tvc5VNOq', 1),\n",
       " ('3PYFh5oZFwR0ZE9v6XsOGD', 1),\n",
       " ('1Lrwd5jcffkdbmwZp6UvtR', 1),\n",
       " ('6vtaQOkHTNZkeOvi6Lhz1v', 1),\n",
       " ('5ougIwpd2a7J4XPZbgwaa0', 1),\n",
       " ('0aipIygwpT8XYrl9GCL1yd', 1),\n",
       " ('3WFDj3jamlWIOzd4BGPd2f', 1),\n",
       " ('14Ay5Oak8ZAJspETYaV5fh', 1),\n",
       " ('29SpDmsgVlsMuP9T81wK9W', 1),\n",
       " ('6etnI4HAWZSI9qFjJZyx6K', 1),\n",
       " ('7DabZGAClZ9hMB8zLNDC9y', 1),\n",
       " ('4m0tPPXHJAe7dzI8yu7QON', 1),\n",
       " ('1xYGAsIZ6ANPCHX1QRhLF6', 1),\n",
       " ('4jyAc38K5Sq8VWwvieERcS', 1),\n",
       " ('3QHBMKLiMqMjVxGTbBKhcD', 1),\n",
       " ('1BxSSOWkDbgerBzm0ney8v', 1),\n",
       " ('2Ow1zXBzWEZgNKyWVLQdPI', 1),\n",
       " ('0MUuqLEAFEFATM6S5Xwl6A', 1),\n",
       " ('5bJJEYkI8AEouIMDPbZbce', 1),\n",
       " ('4kHK1QPnx70zU4KNwOOJ1X', 1)]"
      ]
     },
     "execution_count": 24,
     "metadata": {},
     "output_type": "execute_result"
    }
   ],
   "source": [
    "# searching for the episoodes with the most common mentions of food\n",
    "from collections import Counter\n",
    "epi_counter = Counter(epi_id)\n",
    "epi_counter.most_common()"
   ]
  },
  {
   "cell_type": "code",
   "execution_count": 41,
   "metadata": {},
   "outputs": [
    {
     "name": "stdout",
     "output_type": "stream",
     "text": [
      "[\" It's really a question of how your relationship is with food to start with. So maybe change the name that you have for food, maybe start calling it nourishment know it you're like the French do we don't have a word like food in French Ivo, D. We have no word that equals food in French. We don't have a short word for food food is called New richer or Margie. So eat.\", ' So in France food is sacred language language of the word food in France says the nutrition no heat your comes from new he comes from nourishing. So we actually call Food nourishment in friends, like eat your food most I know feature each your nourishment. Can you imagine have right off the bat the real relationship with food is so different than in the United States choose from', ' And yeah, I guess health comes first looking at it that way and starting to call you food nourishment as opposed to food could be the way to go food for thought.']\n"
     ]
    }
   ],
   "source": [
    "relevant_episode = []\n",
    "for page_result in page_results:\n",
    "    if page_result['metadata']['episode_id'] == '7mwVOm9NeJnu0BkZt5AJjt':\n",
    "        relevant_episode.append(page_result['content'])\n",
    "print(relevant_episode)"
   ]
  },
  {
   "cell_type": "markdown",
   "metadata": {},
   "source": [
    "Now, that we have the most common mentions of food, we need to find the most relevant episode pertaining to food. As we can see from the output above, this episode is talking about people's relationship with food in terms of their nationality or home country. Now I will use the metadata in order to get a more accurate picture of what this specific podcast is about."
   ]
  },
  {
   "cell_type": "code",
   "execution_count": 33,
   "metadata": {},
   "outputs": [],
   "source": [
    "import pandas as pd\n",
    "metadata = pd.read_csv('metadata.tsv', sep ='\\t')"
   ]
  },
  {
   "cell_type": "code",
   "execution_count": 34,
   "metadata": {},
   "outputs": [
    {
     "data": {
      "text/html": [
       "<div>\n",
       "<style scoped>\n",
       "    .dataframe tbody tr th:only-of-type {\n",
       "        vertical-align: middle;\n",
       "    }\n",
       "\n",
       "    .dataframe tbody tr th {\n",
       "        vertical-align: top;\n",
       "    }\n",
       "\n",
       "    .dataframe thead th {\n",
       "        text-align: right;\n",
       "    }\n",
       "</style>\n",
       "<table border=\"1\" class=\"dataframe\">\n",
       "  <thead>\n",
       "    <tr style=\"text-align: right;\">\n",
       "      <th></th>\n",
       "      <th>show_uri</th>\n",
       "      <th>show_name</th>\n",
       "      <th>show_description</th>\n",
       "      <th>publisher</th>\n",
       "      <th>language</th>\n",
       "      <th>rss_link</th>\n",
       "      <th>episode_uri</th>\n",
       "      <th>episode_name</th>\n",
       "      <th>episode_description</th>\n",
       "      <th>duration</th>\n",
       "      <th>show_filename_prefix</th>\n",
       "      <th>episode_filename_prefix</th>\n",
       "    </tr>\n",
       "  </thead>\n",
       "  <tbody>\n",
       "    <tr>\n",
       "      <th>0</th>\n",
       "      <td>spotify:show:2NYtxEZyYelR6RMKmjfPLB</td>\n",
       "      <td>Kream in your Koffee</td>\n",
       "      <td>A 20-something blunt female takes on the world...</td>\n",
       "      <td>Katie Houle</td>\n",
       "      <td>['en']</td>\n",
       "      <td>https://anchor.fm/s/11b84b68/podcast/rss</td>\n",
       "      <td>spotify:episode:000A9sRBYdVh66csG2qEdj</td>\n",
       "      <td>1: It’s Christmas Time!</td>\n",
       "      <td>On the first ever episode of Kream in your Kof...</td>\n",
       "      <td>12.700133</td>\n",
       "      <td>show_2NYtxEZyYelR6RMKmjfPLB</td>\n",
       "      <td>000A9sRBYdVh66csG2qEdj</td>\n",
       "    </tr>\n",
       "    <tr>\n",
       "      <th>1</th>\n",
       "      <td>spotify:show:15iWCbU7QoO23EndPEO6aN</td>\n",
       "      <td>Morning Cup Of Murder</td>\n",
       "      <td>Ever wonder what murder took place on today in...</td>\n",
       "      <td>Morning Cup Of Murder</td>\n",
       "      <td>['en']</td>\n",
       "      <td>https://anchor.fm/s/b07181c/podcast/rss</td>\n",
       "      <td>spotify:episode:000HP8n3hNIfglT2wSI2cA</td>\n",
       "      <td>The Goleta Postal Facility shootings- January ...</td>\n",
       "      <td>See something, say something. It’s a mantra ma...</td>\n",
       "      <td>6.019383</td>\n",
       "      <td>show_15iWCbU7QoO23EndPEO6aN</td>\n",
       "      <td>000HP8n3hNIfglT2wSI2cA</td>\n",
       "    </tr>\n",
       "    <tr>\n",
       "      <th>2</th>\n",
       "      <td>spotify:show:6vZRgUFTYwbAA79UNCADr4</td>\n",
       "      <td>Inside The 18 : A Podcast for Goalkeepers by G...</td>\n",
       "      <td>Inside the 18 is your source for all things Go...</td>\n",
       "      <td>Inside the 18 GK Media</td>\n",
       "      <td>['en']</td>\n",
       "      <td>https://anchor.fm/s/81a072c/podcast/rss</td>\n",
       "      <td>spotify:episode:001UfOruzkA3Bn1SPjcdfa</td>\n",
       "      <td>Ep.36 - Incorporating a Singular Goalkeeping C...</td>\n",
       "      <td>Today’s episode is a sit down Michael and Omar...</td>\n",
       "      <td>43.616333</td>\n",
       "      <td>show_6vZRgUFTYwbAA79UNCADr4</td>\n",
       "      <td>001UfOruzkA3Bn1SPjcdfa</td>\n",
       "    </tr>\n",
       "    <tr>\n",
       "      <th>3</th>\n",
       "      <td>spotify:show:5BvKEjaMSuvUsGROGi2S7s</td>\n",
       "      <td>Arrowhead Live!</td>\n",
       "      <td>Your favorite podcast for everything @Chiefs! ...</td>\n",
       "      <td>Arrowhead Live!</td>\n",
       "      <td>['en-US']</td>\n",
       "      <td>https://anchor.fm/s/917dba4/podcast/rss</td>\n",
       "      <td>spotify:episode:001i89SvIQgDuuyC53hfBm</td>\n",
       "      <td>Episode 1: Arrowhead Live! Debut</td>\n",
       "      <td>Join us as we take a look at all current Chief...</td>\n",
       "      <td>58.189200</td>\n",
       "      <td>show_5BvKEjaMSuvUsGROGi2S7s</td>\n",
       "      <td>001i89SvIQgDuuyC53hfBm</td>\n",
       "    </tr>\n",
       "    <tr>\n",
       "      <th>4</th>\n",
       "      <td>spotify:show:7w3h3umpH74veEJcbE6xf4</td>\n",
       "      <td>FBoL</td>\n",
       "      <td>The comedy podcast about toxic characters, wri...</td>\n",
       "      <td>Emily Edwards</td>\n",
       "      <td>['en']</td>\n",
       "      <td>https://www.fuckboisoflit.com/episodes?format=rss</td>\n",
       "      <td>spotify:episode:0025RWNwe2lnp6HcnfzwzG</td>\n",
       "      <td>The Lion, The Witch, And The Wardrobe - Ashley...</td>\n",
       "      <td>The modern morality tail of how to stay good f...</td>\n",
       "      <td>51.782050</td>\n",
       "      <td>show_7w3h3umpH74veEJcbE6xf4</td>\n",
       "      <td>0025RWNwe2lnp6HcnfzwzG</td>\n",
       "    </tr>\n",
       "  </tbody>\n",
       "</table>\n",
       "</div>"
      ],
      "text/plain": [
       "                              show_uri  \\\n",
       "0  spotify:show:2NYtxEZyYelR6RMKmjfPLB   \n",
       "1  spotify:show:15iWCbU7QoO23EndPEO6aN   \n",
       "2  spotify:show:6vZRgUFTYwbAA79UNCADr4   \n",
       "3  spotify:show:5BvKEjaMSuvUsGROGi2S7s   \n",
       "4  spotify:show:7w3h3umpH74veEJcbE6xf4   \n",
       "\n",
       "                                           show_name  \\\n",
       "0                               Kream in your Koffee   \n",
       "1                              Morning Cup Of Murder   \n",
       "2  Inside The 18 : A Podcast for Goalkeepers by G...   \n",
       "3                                    Arrowhead Live!   \n",
       "4                                              FBoL    \n",
       "\n",
       "                                    show_description               publisher  \\\n",
       "0  A 20-something blunt female takes on the world...             Katie Houle   \n",
       "1  Ever wonder what murder took place on today in...   Morning Cup Of Murder   \n",
       "2  Inside the 18 is your source for all things Go...  Inside the 18 GK Media   \n",
       "3  Your favorite podcast for everything @Chiefs! ...         Arrowhead Live!   \n",
       "4  The comedy podcast about toxic characters, wri...           Emily Edwards   \n",
       "\n",
       "    language                                           rss_link  \\\n",
       "0     ['en']           https://anchor.fm/s/11b84b68/podcast/rss   \n",
       "1     ['en']            https://anchor.fm/s/b07181c/podcast/rss   \n",
       "2     ['en']            https://anchor.fm/s/81a072c/podcast/rss   \n",
       "3  ['en-US']            https://anchor.fm/s/917dba4/podcast/rss   \n",
       "4     ['en']  https://www.fuckboisoflit.com/episodes?format=rss   \n",
       "\n",
       "                              episode_uri  \\\n",
       "0  spotify:episode:000A9sRBYdVh66csG2qEdj   \n",
       "1  spotify:episode:000HP8n3hNIfglT2wSI2cA   \n",
       "2  spotify:episode:001UfOruzkA3Bn1SPjcdfa   \n",
       "3  spotify:episode:001i89SvIQgDuuyC53hfBm   \n",
       "4  spotify:episode:0025RWNwe2lnp6HcnfzwzG   \n",
       "\n",
       "                                        episode_name  \\\n",
       "0                            1: It’s Christmas Time!   \n",
       "1  The Goleta Postal Facility shootings- January ...   \n",
       "2  Ep.36 - Incorporating a Singular Goalkeeping C...   \n",
       "3                   Episode 1: Arrowhead Live! Debut   \n",
       "4  The Lion, The Witch, And The Wardrobe - Ashley...   \n",
       "\n",
       "                                 episode_description   duration  \\\n",
       "0  On the first ever episode of Kream in your Kof...  12.700133   \n",
       "1  See something, say something. It’s a mantra ma...   6.019383   \n",
       "2  Today’s episode is a sit down Michael and Omar...  43.616333   \n",
       "3  Join us as we take a look at all current Chief...  58.189200   \n",
       "4  The modern morality tail of how to stay good f...  51.782050   \n",
       "\n",
       "          show_filename_prefix episode_filename_prefix  \n",
       "0  show_2NYtxEZyYelR6RMKmjfPLB  000A9sRBYdVh66csG2qEdj  \n",
       "1  show_15iWCbU7QoO23EndPEO6aN  000HP8n3hNIfglT2wSI2cA  \n",
       "2  show_6vZRgUFTYwbAA79UNCADr4  001UfOruzkA3Bn1SPjcdfa  \n",
       "3  show_5BvKEjaMSuvUsGROGi2S7s  001i89SvIQgDuuyC53hfBm  \n",
       "4  show_7w3h3umpH74veEJcbE6xf4  0025RWNwe2lnp6HcnfzwzG  "
      ]
     },
     "execution_count": 34,
     "metadata": {},
     "output_type": "execute_result"
    }
   ],
   "source": [
    "metadata.head()"
   ]
  },
  {
   "cell_type": "code",
   "execution_count": 42,
   "metadata": {},
   "outputs": [
    {
     "data": {
      "text/plain": [
       "'Ingrid De La Mare-Kenny gets real on content theft from blogs like goop or instagram copy cows and copy-paster. She stomps her foot and reclaims her philosophy that French etiquette and not eating with your mouthful can impact your waistline. She discusses American faux-Pas that can be fixed by french-etiquette to benefit your digestion, gut health and keep you as skinny as a wine drinking dessert eating french woman. She discusses her stand on whey protein powder and protein powders in general and why she decided to bring one on the market. She reconciles your relationship with food reminding you that in French the word food is called «\\xa0nourriture\\xa0» nourishment and perhaps that’s the key to the positive connotation on food and why food should be a happy place rather than a dreaded one that causes indecisiveness that makes French waiters so impatient when waiting on American patrons ... a lot of loose ends are tied together into a beautiful French now of gangster chicness. Show Notes: Follow Ingrid on Instagram at instagram.com/Ingriddelamarekenny   Purchase Ingrid’s COOKBOOK SIMPLY THE BEST in hardcover or softcover book.themethodmc.com   Get our new FUCKING BEAUTIFUL SIMPLY L’Huile de Rose Rose Oil from Morocco beauty.themethodmc.com   Get Ingrid’s Moroccan AMBER ROCKS Simply Parfum d’Ambiance to transcend your home with the smell of French aristocracy meets orient warmth and sexy Arabian moroccan night’s lifestyle.themethodmc.com  Watch Ingrid cooking class “THE RETREAT EXPERIENCE” how to make her Moroccan kefta style meatballs on our YouTube channel here https://youtu.be/UOqlm7hVZjc  Watch Ingrid’s BREAKFAST & BEAUTY EVENT, the retreat experience at Grand Hotel du Cap Ferrat, and find out her favorite skincare, beauty routine and make-up all unsponsored - on her YouTube channel here https://youtu.be/0f0QBguG9J8  Follow THE METHOD® Instagram.com/themethod.mc  Follow our product line SIMPLY GANGSTER CHIC Instagram.com/simplygangsterchic     Find our Simply INULIN by THE METHOD®|THE BODY - INGRID’s SIMPLY THE BEST E-COOKBOOK & SPICE, and THE NEW PURE PROBIOTIC Simply Kefir Champagne Lacté at shop.themethodmc.com   For our amazing FREE GUT HEALTHY FLAT TUMMY Simply Inulin chocolate chip cookies á la fleur de sel and GANGSTER CHIC BRIÔCHES simplyrecipes.themethodmc.com   For more info about our transformation retreat go to retreat.themethodmc.com   Do THE METHOD Free FLASH WORK-OUTS — no equipment needed  Flash-Workout # 1 https://vimeo.com/250033415/a161c4a0f9    Flash-Workout #2 https://vimeo.com254216501/8983e725b8    You can workout with THE METHOD ORIGINAL MASTER SESSIONS from the comfort of your home ANYWHERE ANYTIME by subscribing to the monthly membership at virtual.themethodmc.com The RETREAT EXPERIENCE 50 min workout master session is currently available and newly released.   Read the article by JULETHEBEE (Julianne Osherow) including her bee’s touch on Ingrid’s Moroccan Lemon Chicken recipe https://julethebee.com/recibees/2019/5/16/moroccan-lemon-chicken  She is the woman who dressed her pup Norman as a peacock to come out of the closet as a belly dancing Moroccan chef for the day ! You can see that on insta Instagram.com/julethebee   Request some reading material from the retreat by emailing retreat@themethodmc.com   BOOK your Transformation RETREAT week for our 2020 session at the ICONIC GRAND HOTEL DU CAP FERRAT here retreat.themethodmc.com      You can leave us a voice message with questions or comments we may future on the next episode here:https://anchor.fm/pardonmyfrench    You can find information about Ingrid’s one on one Mind-Body power mentor sessions here bodymindmentor.themethodmc.com   For all recipes mentionned in this podcast FREE at simplyrecipes.themethodmc.com       '"
      ]
     },
     "execution_count": 42,
     "metadata": {},
     "output_type": "execute_result"
    }
   ],
   "source": [
    "metadata[metadata['episode_filename_prefix'] == '7mwVOm9NeJnu0BkZt5AJjt']['episode_description'].iloc[0]"
   ]
  },
  {
   "cell_type": "markdown",
   "metadata": {},
   "source": [
    "From the podcast description above, we get an interesting podcast about food and etiquette. Overall we can see that the Scout search engine does a good job of helping us search for specific podcasts but is not perfect. Maybe instead of using the transcripts, we can find a way to use the podcast audio to improve our search."
   ]
  },
  {
   "cell_type": "code",
   "execution_count": null,
   "metadata": {},
   "outputs": [],
   "source": []
  }
 ],
 "metadata": {
  "kernelspec": {
   "display_name": "Python 3",
   "language": "python",
   "name": "python3"
  },
  "language_info": {
   "codemirror_mode": {
    "name": "ipython",
    "version": 3
   },
   "file_extension": ".py",
   "mimetype": "text/x-python",
   "name": "python",
   "nbconvert_exporter": "python",
   "pygments_lexer": "ipython3",
   "version": "3.8.3"
  }
 },
 "nbformat": 4,
 "nbformat_minor": 4
}
