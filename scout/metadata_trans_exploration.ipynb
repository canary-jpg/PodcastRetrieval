{
 "cells": [
  {
   "cell_type": "markdown",
   "metadata": {},
   "source": [
    "# Podcast Metadata Exploration\n",
    "In this notebook, I will be exploring the podcast metadata to see if we will be able accurately use Scout to search for podcast episodes."
   ]
  },
  {
   "cell_type": "code",
   "execution_count": 1,
   "metadata": {},
   "outputs": [],
   "source": [
    "import pandas as pd"
   ]
  },
  {
   "cell_type": "code",
   "execution_count": 2,
   "metadata": {},
   "outputs": [],
   "source": [
    "metadata = pd.read_csv('metadata.tsv', sep = '\\t')"
   ]
  },
  {
   "cell_type": "code",
   "execution_count": 3,
   "metadata": {},
   "outputs": [
    {
     "data": {
      "text/html": [
       "<div>\n",
       "<style scoped>\n",
       "    .dataframe tbody tr th:only-of-type {\n",
       "        vertical-align: middle;\n",
       "    }\n",
       "\n",
       "    .dataframe tbody tr th {\n",
       "        vertical-align: top;\n",
       "    }\n",
       "\n",
       "    .dataframe thead th {\n",
       "        text-align: right;\n",
       "    }\n",
       "</style>\n",
       "<table border=\"1\" class=\"dataframe\">\n",
       "  <thead>\n",
       "    <tr style=\"text-align: right;\">\n",
       "      <th></th>\n",
       "      <th>show_uri</th>\n",
       "      <th>show_name</th>\n",
       "      <th>show_description</th>\n",
       "      <th>publisher</th>\n",
       "      <th>language</th>\n",
       "      <th>rss_link</th>\n",
       "      <th>episode_uri</th>\n",
       "      <th>episode_name</th>\n",
       "      <th>episode_description</th>\n",
       "      <th>duration</th>\n",
       "      <th>show_filename_prefix</th>\n",
       "      <th>episode_filename_prefix</th>\n",
       "    </tr>\n",
       "  </thead>\n",
       "  <tbody>\n",
       "    <tr>\n",
       "      <th>0</th>\n",
       "      <td>spotify:show:2NYtxEZyYelR6RMKmjfPLB</td>\n",
       "      <td>Kream in your Koffee</td>\n",
       "      <td>A 20-something blunt female takes on the world...</td>\n",
       "      <td>Katie Houle</td>\n",
       "      <td>['en']</td>\n",
       "      <td>https://anchor.fm/s/11b84b68/podcast/rss</td>\n",
       "      <td>spotify:episode:000A9sRBYdVh66csG2qEdj</td>\n",
       "      <td>1: It’s Christmas Time!</td>\n",
       "      <td>On the first ever episode of Kream in your Kof...</td>\n",
       "      <td>12.700133</td>\n",
       "      <td>show_2NYtxEZyYelR6RMKmjfPLB</td>\n",
       "      <td>000A9sRBYdVh66csG2qEdj</td>\n",
       "    </tr>\n",
       "    <tr>\n",
       "      <th>1</th>\n",
       "      <td>spotify:show:15iWCbU7QoO23EndPEO6aN</td>\n",
       "      <td>Morning Cup Of Murder</td>\n",
       "      <td>Ever wonder what murder took place on today in...</td>\n",
       "      <td>Morning Cup Of Murder</td>\n",
       "      <td>['en']</td>\n",
       "      <td>https://anchor.fm/s/b07181c/podcast/rss</td>\n",
       "      <td>spotify:episode:000HP8n3hNIfglT2wSI2cA</td>\n",
       "      <td>The Goleta Postal Facility shootings- January ...</td>\n",
       "      <td>See something, say something. It’s a mantra ma...</td>\n",
       "      <td>6.019383</td>\n",
       "      <td>show_15iWCbU7QoO23EndPEO6aN</td>\n",
       "      <td>000HP8n3hNIfglT2wSI2cA</td>\n",
       "    </tr>\n",
       "    <tr>\n",
       "      <th>2</th>\n",
       "      <td>spotify:show:6vZRgUFTYwbAA79UNCADr4</td>\n",
       "      <td>Inside The 18 : A Podcast for Goalkeepers by G...</td>\n",
       "      <td>Inside the 18 is your source for all things Go...</td>\n",
       "      <td>Inside the 18 GK Media</td>\n",
       "      <td>['en']</td>\n",
       "      <td>https://anchor.fm/s/81a072c/podcast/rss</td>\n",
       "      <td>spotify:episode:001UfOruzkA3Bn1SPjcdfa</td>\n",
       "      <td>Ep.36 - Incorporating a Singular Goalkeeping C...</td>\n",
       "      <td>Today’s episode is a sit down Michael and Omar...</td>\n",
       "      <td>43.616333</td>\n",
       "      <td>show_6vZRgUFTYwbAA79UNCADr4</td>\n",
       "      <td>001UfOruzkA3Bn1SPjcdfa</td>\n",
       "    </tr>\n",
       "    <tr>\n",
       "      <th>3</th>\n",
       "      <td>spotify:show:5BvKEjaMSuvUsGROGi2S7s</td>\n",
       "      <td>Arrowhead Live!</td>\n",
       "      <td>Your favorite podcast for everything @Chiefs! ...</td>\n",
       "      <td>Arrowhead Live!</td>\n",
       "      <td>['en-US']</td>\n",
       "      <td>https://anchor.fm/s/917dba4/podcast/rss</td>\n",
       "      <td>spotify:episode:001i89SvIQgDuuyC53hfBm</td>\n",
       "      <td>Episode 1: Arrowhead Live! Debut</td>\n",
       "      <td>Join us as we take a look at all current Chief...</td>\n",
       "      <td>58.189200</td>\n",
       "      <td>show_5BvKEjaMSuvUsGROGi2S7s</td>\n",
       "      <td>001i89SvIQgDuuyC53hfBm</td>\n",
       "    </tr>\n",
       "    <tr>\n",
       "      <th>4</th>\n",
       "      <td>spotify:show:7w3h3umpH74veEJcbE6xf4</td>\n",
       "      <td>FBoL</td>\n",
       "      <td>The comedy podcast about toxic characters, wri...</td>\n",
       "      <td>Emily Edwards</td>\n",
       "      <td>['en']</td>\n",
       "      <td>https://www.fuckboisoflit.com/episodes?format=rss</td>\n",
       "      <td>spotify:episode:0025RWNwe2lnp6HcnfzwzG</td>\n",
       "      <td>The Lion, The Witch, And The Wardrobe - Ashley...</td>\n",
       "      <td>The modern morality tail of how to stay good f...</td>\n",
       "      <td>51.782050</td>\n",
       "      <td>show_7w3h3umpH74veEJcbE6xf4</td>\n",
       "      <td>0025RWNwe2lnp6HcnfzwzG</td>\n",
       "    </tr>\n",
       "  </tbody>\n",
       "</table>\n",
       "</div>"
      ],
      "text/plain": [
       "                              show_uri  \\\n",
       "0  spotify:show:2NYtxEZyYelR6RMKmjfPLB   \n",
       "1  spotify:show:15iWCbU7QoO23EndPEO6aN   \n",
       "2  spotify:show:6vZRgUFTYwbAA79UNCADr4   \n",
       "3  spotify:show:5BvKEjaMSuvUsGROGi2S7s   \n",
       "4  spotify:show:7w3h3umpH74veEJcbE6xf4   \n",
       "\n",
       "                                           show_name  \\\n",
       "0                               Kream in your Koffee   \n",
       "1                              Morning Cup Of Murder   \n",
       "2  Inside The 18 : A Podcast for Goalkeepers by G...   \n",
       "3                                    Arrowhead Live!   \n",
       "4                                              FBoL    \n",
       "\n",
       "                                    show_description               publisher  \\\n",
       "0  A 20-something blunt female takes on the world...             Katie Houle   \n",
       "1  Ever wonder what murder took place on today in...   Morning Cup Of Murder   \n",
       "2  Inside the 18 is your source for all things Go...  Inside the 18 GK Media   \n",
       "3  Your favorite podcast for everything @Chiefs! ...         Arrowhead Live!   \n",
       "4  The comedy podcast about toxic characters, wri...           Emily Edwards   \n",
       "\n",
       "    language                                           rss_link  \\\n",
       "0     ['en']           https://anchor.fm/s/11b84b68/podcast/rss   \n",
       "1     ['en']            https://anchor.fm/s/b07181c/podcast/rss   \n",
       "2     ['en']            https://anchor.fm/s/81a072c/podcast/rss   \n",
       "3  ['en-US']            https://anchor.fm/s/917dba4/podcast/rss   \n",
       "4     ['en']  https://www.fuckboisoflit.com/episodes?format=rss   \n",
       "\n",
       "                              episode_uri  \\\n",
       "0  spotify:episode:000A9sRBYdVh66csG2qEdj   \n",
       "1  spotify:episode:000HP8n3hNIfglT2wSI2cA   \n",
       "2  spotify:episode:001UfOruzkA3Bn1SPjcdfa   \n",
       "3  spotify:episode:001i89SvIQgDuuyC53hfBm   \n",
       "4  spotify:episode:0025RWNwe2lnp6HcnfzwzG   \n",
       "\n",
       "                                        episode_name  \\\n",
       "0                            1: It’s Christmas Time!   \n",
       "1  The Goleta Postal Facility shootings- January ...   \n",
       "2  Ep.36 - Incorporating a Singular Goalkeeping C...   \n",
       "3                   Episode 1: Arrowhead Live! Debut   \n",
       "4  The Lion, The Witch, And The Wardrobe - Ashley...   \n",
       "\n",
       "                                 episode_description   duration  \\\n",
       "0  On the first ever episode of Kream in your Kof...  12.700133   \n",
       "1  See something, say something. It’s a mantra ma...   6.019383   \n",
       "2  Today’s episode is a sit down Michael and Omar...  43.616333   \n",
       "3  Join us as we take a look at all current Chief...  58.189200   \n",
       "4  The modern morality tail of how to stay good f...  51.782050   \n",
       "\n",
       "          show_filename_prefix episode_filename_prefix  \n",
       "0  show_2NYtxEZyYelR6RMKmjfPLB  000A9sRBYdVh66csG2qEdj  \n",
       "1  show_15iWCbU7QoO23EndPEO6aN  000HP8n3hNIfglT2wSI2cA  \n",
       "2  show_6vZRgUFTYwbAA79UNCADr4  001UfOruzkA3Bn1SPjcdfa  \n",
       "3  show_5BvKEjaMSuvUsGROGi2S7s  001i89SvIQgDuuyC53hfBm  \n",
       "4  show_7w3h3umpH74veEJcbE6xf4  0025RWNwe2lnp6HcnfzwzG  "
      ]
     },
     "execution_count": 3,
     "metadata": {},
     "output_type": "execute_result"
    }
   ],
   "source": [
    "metadata.head()"
   ]
  },
  {
   "cell_type": "code",
   "execution_count": 4,
   "metadata": {},
   "outputs": [
    {
     "data": {
      "text/plain": [
       "Index(['show_uri', 'show_name', 'show_description', 'publisher', 'language',\n",
       "       'rss_link', 'episode_uri', 'episode_name', 'episode_description',\n",
       "       'duration', 'show_filename_prefix', 'episode_filename_prefix'],\n",
       "      dtype='object')"
      ]
     },
     "execution_count": 4,
     "metadata": {},
     "output_type": "execute_result"
    }
   ],
   "source": [
    "metadata.columns"
   ]
  },
  {
   "cell_type": "markdown",
   "metadata": {},
   "source": [
    "As we can see from the output above, the metadata table has columns like show_uri, show_name, show_description and duration, which will be important for us to search for specific podcasts"
   ]
  },
  {
   "cell_type": "code",
   "execution_count": 5,
   "metadata": {},
   "outputs": [
    {
     "data": {
      "text/plain": [
       "(105360, 12)"
      ]
     },
     "execution_count": 5,
     "metadata": {},
     "output_type": "execute_result"
    }
   ],
   "source": [
    "metadata.shape"
   ]
  },
  {
   "cell_type": "markdown",
   "metadata": {},
   "source": [
    "There are currently 105,360 shows and episodes in Spotify's metadata file"
   ]
  },
  {
   "cell_type": "code",
   "execution_count": 6,
   "metadata": {},
   "outputs": [],
   "source": [
    "# how many episodes per show are there?\n",
    "episodes = metadata['episode_uri'].nunique()"
   ]
  },
  {
   "cell_type": "code",
   "execution_count": 11,
   "metadata": {},
   "outputs": [],
   "source": [
    "shows = metadata['show_uri'].nunique()"
   ]
  },
  {
   "cell_type": "code",
   "execution_count": 12,
   "metadata": {},
   "outputs": [
    {
     "data": {
      "text/plain": [
       "5.733565520243796"
      ]
     },
     "execution_count": 12,
     "metadata": {},
     "output_type": "execute_result"
    }
   ],
   "source": [
    "episodes/shows"
   ]
  },
  {
   "cell_type": "markdown",
   "metadata": {},
   "source": [
    "There are almost 6 episodes per show currently in this table"
   ]
  },
  {
   "cell_type": "code",
   "execution_count": 13,
   "metadata": {},
   "outputs": [
    {
     "data": {
      "text/plain": [
       "['en']       79452\n",
       "['en-US']    20264\n",
       "['en-GB']     2335\n",
       "['en-AU']     1377\n",
       "['en-CA']      962\n",
       "['en-PH']      368\n",
       "['en-IE']      243\n",
       "['en-NZ']      141\n",
       "['en-ZA']       86\n",
       "['nl-BE']       39\n",
       "['hi']          32\n",
       "['id']          28\n",
       "['ml']          11\n",
       "['ms']           9\n",
       "['pt']           5\n",
       "['ga']           2\n",
       "['en-IN']        2\n",
       "['en-JM']        2\n",
       "['ta']           1\n",
       "['es']           1\n",
       "Name: language, dtype: int64"
      ]
     },
     "execution_count": 13,
     "metadata": {},
     "output_type": "execute_result"
    }
   ],
   "source": [
    "metadata['language'].value_counts()"
   ]
  },
  {
   "cell_type": "markdown",
   "metadata": {},
   "source": [
    "Because of the podcast data is only in English, I wondered how many of the different English dialects would be in the metadata. I wonder if the different spellings across the different shows will affect our search results at all."
   ]
  },
  {
   "cell_type": "code",
   "execution_count": 14,
   "metadata": {},
   "outputs": [
    {
     "data": {
      "text/plain": [
       "show_uri                    object\n",
       "show_name                   object\n",
       "show_description            object\n",
       "publisher                   object\n",
       "language                    object\n",
       "rss_link                    object\n",
       "episode_uri                 object\n",
       "episode_name                object\n",
       "episode_description         object\n",
       "duration                   float64\n",
       "show_filename_prefix        object\n",
       "episode_filename_prefix     object\n",
       "dtype: object"
      ]
     },
     "execution_count": 14,
     "metadata": {},
     "output_type": "execute_result"
    }
   ],
   "source": [
    "metadata.dtypes"
   ]
  },
  {
   "cell_type": "code",
   "execution_count": 15,
   "metadata": {},
   "outputs": [
    {
     "data": {
      "text/plain": [
       "count    105360.000000\n",
       "mean         33.845715\n",
       "std          22.735674\n",
       "min           0.175317\n",
       "25%          13.552637\n",
       "50%          31.643375\n",
       "75%          50.446825\n",
       "max         304.953900\n",
       "Name: duration, dtype: float64"
      ]
     },
     "execution_count": 15,
     "metadata": {},
     "output_type": "execute_result"
    }
   ],
   "source": [
    "metadata['duration'].describe()"
   ]
  },
  {
   "cell_type": "markdown",
   "metadata": {},
   "source": [
    "On average, a show is about 34 minutes long with the maximum duration being 305 minutes"
   ]
  },
  {
   "cell_type": "code",
   "execution_count": 16,
   "metadata": {},
   "outputs": [
    {
     "data": {
      "text/plain": [
       "(117, 12)"
      ]
     },
     "execution_count": 16,
     "metadata": {},
     "output_type": "execute_result"
    }
   ],
   "source": [
    "metadata[metadata['show_name'].str.find('Dissect') != -1].shape"
   ]
  },
  {
   "cell_type": "code",
   "execution_count": 17,
   "metadata": {},
   "outputs": [
    {
     "data": {
      "text/plain": [
       "Chompers                                                                                               1072\n",
       "Dr Berg’s Healthy Keto and Intermittent Fasting Podcast                                                 746\n",
       "Coach Corey Wayne                                                                                       615\n",
       "Optimal Living Daily: Personal Development & Minimalism                                                 424\n",
       "Daily Fortnite                                                                                          417\n",
       "The GaryVee Audio Experience                                                                            413\n",
       "Everyday Positivity                                                                                     396\n",
       "Pack-A-Day: Your Daily Packers Podcast                                                                  394\n",
       "Self Improvement Daily                                                                                  376\n",
       "The Orthobullets Podcast                                                                                362\n",
       "Optimal Finance Daily                                                                                   336\n",
       "Breakups and Relationships With Coach Craig Kenneth                                                     321\n",
       "TopTenz - Daily Top 10s                                                                                 306\n",
       "Optimal Health Daily                                                                                    301\n",
       "Stoic Meditations                                                                                       284\n",
       "Curse Free GaryVee                                                                                      284\n",
       "Starry Alignment: The Daily Horoscope Podcast for Visionary Lightworkers                                259\n",
       "Alpha Male Strategies                                                                                   238\n",
       "BitcoinMeister- Bitcoin, Cryptocurrency, Altcoins                                                       238\n",
       "The Premature Millionaire Show - The Show About Side Hustles, Investing, Motivation, And Retirement     221\n",
       "Optimal Relationships Daily                                                                             212\n",
       "Nintendo Switch Craft - A Nintendo Podcast                                                              202\n",
       "Today in True Crime                                                                                     195\n",
       "Unsolved Murders: True Crime Stories                                                                    194\n",
       "Parcast Presents: March Mysteries                                                                       193\n",
       "Revise - A Level and GCSE Revision                                                                      186\n",
       "Biographics: History One Life at a Time                                                                 184\n",
       "Morning Cup Of Murder                                                                                   180\n",
       "SNTR Presents                                                                                           176\n",
       "The 90 Day Fiancé After Show Podcast                                                                    174\n",
       "Reply All                                                                                               166\n",
       "The Language Learning Show                                                                              166\n",
       "The Receipts Podcast                                                                                    163\n",
       "How to Trade Stocks and Options Podcast by 10minutestocktrader.com                                      161\n",
       "Study Minute                                                                                            161\n",
       "The Dark Swamp: Horror Stories | Swamp Dweller Podcast                                                  156\n",
       "Story Pirates                                                                                           155\n",
       "Best Hour of Their Day                                                                                  153\n",
       "StartUp Podcast                                                                                         151\n",
       "Haunted Places                                                                                          151\n",
       "American English Grammar Review                                                                         148\n",
       "Premium ASMR                                                                                            147\n",
       "Serial Killers                                                                                          146\n",
       "The Fantasy Free Agents Podcast                                                                         146\n",
       "Jeremy Scott Fitness                                                                                    143\n",
       "The Leafs Convo                                                                                         143\n",
       "London Is Blue - Chelsea FC Soccer Podcast                                                              138\n",
       "Sweathead with Mark Pollard - A Strategy Podcast                                                        137\n",
       "Dr. Chapa’s ObGyn Pearls.                                                                               137\n",
       "Cults                                                                                                   134\n",
       "Name: show_name, dtype: int64"
      ]
     },
     "execution_count": 17,
     "metadata": {},
     "output_type": "execute_result"
    }
   ],
   "source": [
    "metadata['show_name'].value_counts().head(50)"
   ]
  },
  {
   "cell_type": "markdown",
   "metadata": {},
   "source": [
    "Looking at the output above, we can see the top 50 podcasts in the metadata based on the number of episodes each show has. The show with the most episodes being Chompers, a podcast for young kids that makes brushing teeth fun and enjoyable."
   ]
  },
  {
   "cell_type": "code",
   "execution_count": 18,
   "metadata": {},
   "outputs": [],
   "source": [
    "true_crime = metadata[metadata['show_name'].str.find('Unsolved Murders: True Crime Stories') != -1]"
   ]
  },
  {
   "cell_type": "code",
   "execution_count": 19,
   "metadata": {},
   "outputs": [
    {
     "data": {
      "text/plain": [
       "102       spotify:show:6Mk7Wk6cmrgXWnitO3NdYe\n",
       "214       spotify:show:6Mk7Wk6cmrgXWnitO3NdYe\n",
       "426       spotify:show:6Mk7Wk6cmrgXWnitO3NdYe\n",
       "1651      spotify:show:6Mk7Wk6cmrgXWnitO3NdYe\n",
       "1836      spotify:show:6Mk7Wk6cmrgXWnitO3NdYe\n",
       "                         ...                 \n",
       "103259    spotify:show:6Mk7Wk6cmrgXWnitO3NdYe\n",
       "103727    spotify:show:6Mk7Wk6cmrgXWnitO3NdYe\n",
       "104070    spotify:show:6Mk7Wk6cmrgXWnitO3NdYe\n",
       "104346    spotify:show:6Mk7Wk6cmrgXWnitO3NdYe\n",
       "105245    spotify:show:6Mk7Wk6cmrgXWnitO3NdYe\n",
       "Name: show_uri, Length: 194, dtype: object"
      ]
     },
     "execution_count": 19,
     "metadata": {},
     "output_type": "execute_result"
    }
   ],
   "source": [
    "true_crime['show_uri']"
   ]
  },
  {
   "cell_type": "markdown",
   "metadata": {},
   "source": [
    "Above, I wanted to explore how many shows focused on the true crime genre, considering its recent popularity and as we can see there are 194 shows dedicated to the genre."
   ]
  },
  {
   "cell_type": "code",
   "execution_count": 20,
   "metadata": {},
   "outputs": [],
   "source": [
    "import json"
   ]
  },
  {
   "cell_type": "code",
   "execution_count": null,
   "metadata": {},
   "outputs": [],
   "source": [
    "transcript_example = 'spotify-podcasts-2020/podcasts-transcripts/0/0/show_002B8PbILr169CdsS9ySTH/399kdfMnjw0KYANZU7CQJ0.json'"
   ]
  },
  {
   "cell_type": "code",
   "execution_count": null,
   "metadata": {},
   "outputs": [],
   "source": [
    "with open(transcript_example, 'r') as transcript:\n",
    "    tran = json.load(transcript)"
   ]
  },
  {
   "cell_type": "code",
   "execution_count": null,
   "metadata": {},
   "outputs": [],
   "source": [
    "tran.keys()"
   ]
  },
  {
   "cell_type": "code",
   "execution_count": null,
   "metadata": {},
   "outputs": [],
   "source": [
    "tran['results'][1].keys()"
   ]
  },
  {
   "cell_type": "code",
   "execution_count": null,
   "metadata": {},
   "outputs": [],
   "source": [
    "tran['results'][1]['alternatives'][0].keys()"
   ]
  },
  {
   "cell_type": "code",
   "execution_count": null,
   "metadata": {},
   "outputs": [],
   "source": [
    "tran['results'][1]['alternatives'][0]['transcript']"
   ]
  }
 ],
 "metadata": {
  "kernelspec": {
   "display_name": "Python 3",
   "language": "python",
   "name": "python3"
  },
  "language_info": {
   "codemirror_mode": {
    "name": "ipython",
    "version": 3
   },
   "file_extension": ".py",
   "mimetype": "text/x-python",
   "name": "python",
   "nbconvert_exporter": "python",
   "pygments_lexer": "ipython3",
   "version": "3.7.6"
  }
 },
 "nbformat": 4,
 "nbformat_minor": 4
}
